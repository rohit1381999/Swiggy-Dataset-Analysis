{
 "cells": [
  {
   "cell_type": "code",
   "execution_count": 1,
   "metadata": {},
   "outputs": [],
   "source": [
    "import pandas as pd\n",
    "import numpy as np\n",
    "\n",
    "from sklearn.preprocessing import LabelEncoder\n"
   ]
  },
  {
   "cell_type": "markdown",
   "metadata": {},
   "source": [
    "### Loading data into dataframe\n"
   ]
  },
  {
   "cell_type": "code",
   "execution_count": 2,
   "metadata": {},
   "outputs": [
    {
     "data": {
      "text/html": [
       "<div>\n",
       "<style scoped>\n",
       "    .dataframe tbody tr th:only-of-type {\n",
       "        vertical-align: middle;\n",
       "    }\n",
       "\n",
       "    .dataframe tbody tr th {\n",
       "        vertical-align: top;\n",
       "    }\n",
       "\n",
       "    .dataframe thead th {\n",
       "        text-align: right;\n",
       "    }\n",
       "</style>\n",
       "<table border=\"1\" class=\"dataframe\">\n",
       "  <thead>\n",
       "    <tr style=\"text-align: right;\">\n",
       "      <th></th>\n",
       "      <th>Unnamed: 0</th>\n",
       "      <th>Restaurant Name</th>\n",
       "      <th>City</th>\n",
       "      <th>Locality</th>\n",
       "      <th>Cuisines</th>\n",
       "      <th>Average Cost for two</th>\n",
       "      <th>Has Table booking</th>\n",
       "      <th>Has Online delivery</th>\n",
       "      <th>Rating Stars out of 5</th>\n",
       "      <th>Rating in text</th>\n",
       "      <th>Price range</th>\n",
       "      <th>Votes</th>\n",
       "    </tr>\n",
       "  </thead>\n",
       "  <tbody>\n",
       "    <tr>\n",
       "      <th>0</th>\n",
       "      <td>0</td>\n",
       "      <td>Sultans of Spice</td>\n",
       "      <td>0</td>\n",
       "      <td>20</td>\n",
       "      <td>23</td>\n",
       "      <td>20</td>\n",
       "      <td>1</td>\n",
       "      <td>1</td>\n",
       "      <td>4.1</td>\n",
       "      <td>3</td>\n",
       "      <td>3</td>\n",
       "      <td>314</td>\n",
       "    </tr>\n",
       "    <tr>\n",
       "      <th>1</th>\n",
       "      <td>1</td>\n",
       "      <td>The Fatty Bao - Asian Gastro Bar</td>\n",
       "      <td>0</td>\n",
       "      <td>56</td>\n",
       "      <td>1</td>\n",
       "      <td>32</td>\n",
       "      <td>1</td>\n",
       "      <td>1</td>\n",
       "      <td>4.7</td>\n",
       "      <td>1</td>\n",
       "      <td>4</td>\n",
       "      <td>591</td>\n",
       "    </tr>\n",
       "    <tr>\n",
       "      <th>2</th>\n",
       "      <td>2</td>\n",
       "      <td>Toit</td>\n",
       "      <td>0</td>\n",
       "      <td>56</td>\n",
       "      <td>16</td>\n",
       "      <td>28</td>\n",
       "      <td>0</td>\n",
       "      <td>0</td>\n",
       "      <td>4.8</td>\n",
       "      <td>1</td>\n",
       "      <td>4</td>\n",
       "      <td>270</td>\n",
       "    </tr>\n",
       "    <tr>\n",
       "      <th>3</th>\n",
       "      <td>3</td>\n",
       "      <td>Three Dots &amp; A Dash</td>\n",
       "      <td>0</td>\n",
       "      <td>56</td>\n",
       "      <td>10</td>\n",
       "      <td>20</td>\n",
       "      <td>1</td>\n",
       "      <td>0</td>\n",
       "      <td>3.9</td>\n",
       "      <td>2</td>\n",
       "      <td>3</td>\n",
       "      <td>365</td>\n",
       "    </tr>\n",
       "    <tr>\n",
       "      <th>4</th>\n",
       "      <td>4</td>\n",
       "      <td>Bombay Brasserie</td>\n",
       "      <td>0</td>\n",
       "      <td>56</td>\n",
       "      <td>21</td>\n",
       "      <td>22</td>\n",
       "      <td>0</td>\n",
       "      <td>1</td>\n",
       "      <td>4.2</td>\n",
       "      <td>3</td>\n",
       "      <td>3</td>\n",
       "      <td>229</td>\n",
       "    </tr>\n",
       "  </tbody>\n",
       "</table>\n",
       "</div>"
      ],
      "text/plain": [
       "   Unnamed: 0                   Restaurant Name  City  Locality  Cuisines  \\\n",
       "0           0                  Sultans of Spice     0        20        23   \n",
       "1           1  The Fatty Bao - Asian Gastro Bar     0        56         1   \n",
       "2           2                              Toit     0        56        16   \n",
       "3           3               Three Dots & A Dash     0        56        10   \n",
       "4           4                  Bombay Brasserie     0        56        21   \n",
       "\n",
       "   Average Cost for two  Has Table booking  Has Online delivery  \\\n",
       "0                    20                  1                    1   \n",
       "1                    32                  1                    1   \n",
       "2                    28                  0                    0   \n",
       "3                    20                  1                    0   \n",
       "4                    22                  0                    1   \n",
       "\n",
       "    Rating Stars out of 5  Rating in text  Price range  Votes  \n",
       "0                     4.1               3            3    314  \n",
       "1                     4.7               1            4    591  \n",
       "2                     4.8               1            4    270  \n",
       "3                     3.9               2            3    365  \n",
       "4                     4.2               3            3    229  "
      ]
     },
     "execution_count": 2,
     "metadata": {},
     "output_type": "execute_result"
    }
   ],
   "source": [
    "swiggy_data=pd.read_csv(\"C:\\\\Users\\\\lenovo\\\\Downloads\\\\Swiggy_Dataset.csv\",encoding='ISO-8859-1')\n",
    "swiggy_data.head()"
   ]
  },
  {
   "cell_type": "markdown",
   "metadata": {},
   "source": [
    "### Exploring data and Performing Data Cleaning and Pre-Processing "
   ]
  },
  {
   "cell_type": "code",
   "execution_count": 3,
   "metadata": {},
   "outputs": [
    {
     "name": "stdout",
     "output_type": "stream",
     "text": [
      "Unnamed: 0                  int64\n",
      "Restaurant Name            object\n",
      "City                        int64\n",
      "Locality                    int64\n",
      "Cuisines                    int64\n",
      "Average Cost for two        int64\n",
      "Has Table booking           int64\n",
      "Has Online delivery         int64\n",
      " Rating Stars out of 5    float64\n",
      "Rating in text              int64\n",
      "Price range                 int64\n",
      "Votes                       int64\n",
      "dtype: object\n",
      "Unnamed: 0                0\n",
      "Restaurant Name           0\n",
      "City                      0\n",
      "Locality                  0\n",
      "Cuisines                  0\n",
      "Average Cost for two      0\n",
      "Has Table booking         0\n",
      "Has Online delivery       0\n",
      " Rating Stars out of 5    0\n",
      "Rating in text            0\n",
      "Price range               0\n",
      "Votes                     0\n",
      "dtype: int64\n"
     ]
    }
   ],
   "source": [
    "# there are no null values in the datasets\n",
    "print(swiggy_data.dtypes)\n",
    "print(swiggy_data.isnull().sum())\n"
   ]
  },
  {
   "cell_type": "code",
   "execution_count": 4,
   "metadata": {},
   "outputs": [
    {
     "data": {
      "text/plain": [
       "array([ 0,  1,  2,  3,  4,  5,  6,  7,  8,  9, 10, 11, 12], dtype=int64)"
      ]
     },
     "execution_count": 4,
     "metadata": {},
     "output_type": "execute_result"
    }
   ],
   "source": [
    "swiggy_data['City'].unique()"
   ]
  },
  {
   "cell_type": "code",
   "execution_count": 5,
   "metadata": {},
   "outputs": [
    {
     "data": {
      "text/plain": [
       "array([ 20,  56,  58,  66,  67,  68,  82,  87, 104, 109, 124,  29,  38,\n",
       "       110, 111, 112, 114, 115,   3,   9,  11,  40,  48,  64,  70,  84,\n",
       "        88,  93,  99, 100, 108, 122, 129,   7,   8,  10,  14,  19,  24,\n",
       "        25,  27,  28,  86,  90, 127,   6,  30,  32,  37, 118, 125, 126,\n",
       "       136,   0,  18,  43,  51,  52,  59,  65,  77,  89,  23,  31,  34,\n",
       "        36,  53,  54,  71,  80, 123, 128, 132,   1,  16,  26,  39,  46,\n",
       "        63,  81,  91,  97, 113, 117, 119,   4,  47,  49,  72, 103, 105,\n",
       "       106, 107,  13,  21,  22,  41,  50,  60,  74,  76,  78,  79,  96,\n",
       "       101, 130, 133,   5,  42,  44,  55,  62,  75,  83,  92, 121,  15,\n",
       "        17,  35,  61,  69,  73,  94,  98, 102, 116, 120, 134, 135,   2,\n",
       "        12,  33,  45,  57,  85,  95, 131], dtype=int64)"
      ]
     },
     "execution_count": 5,
     "metadata": {},
     "output_type": "execute_result"
    }
   ],
   "source": [
    "swiggy_data['Locality'].unique()"
   ]
  },
  {
   "cell_type": "code",
   "execution_count": 6,
   "metadata": {},
   "outputs": [
    {
     "name": "stdout",
     "output_type": "stream",
     "text": [
      "Index(['Unnamed: 0', 'Restaurant Name', 'City', 'Locality', 'Cuisines',\n",
      "       'Average Cost for two', 'Has Table booking', 'Has Online delivery',\n",
      "       ' Rating Stars out of 5', 'Rating in text', 'Price range', 'Votes'],\n",
      "      dtype='object')\n",
      "Unnamed: 0                  int64\n",
      "Restaurant Name            object\n",
      "City                        int64\n",
      "Locality                    int64\n",
      "Cuisines                    int64\n",
      "Average Cost for two        int64\n",
      "Has Table booking           int64\n",
      "Has Online delivery         int64\n",
      " Rating Stars out of 5    float64\n",
      "Rating in text              int64\n",
      "Price range                 int64\n",
      "Votes                       int64\n",
      "dtype: object\n"
     ]
    }
   ],
   "source": [
    "print(swiggy_data.columns)\n",
    "print(swiggy_data.dtypes)"
   ]
  },
  {
   "cell_type": "markdown",
   "metadata": {},
   "source": [
    " - Now as there are multiple values in 'City', 'Locality', 'Cuisines', 'Rating in text' columns applying LabelEncoder() the 'City', 'Locality', 'Cuisines' columns.\n",
    "- 'Has Table booking', 'Has Online delivery' columns have two values 'yes' and 'no', so we can use get_dummies() , but in order to keep the processed data small we will be using  LabelEncoder() on 'Has Table booking', 'Has Online delivery' columns."
   ]
  },
  {
   "cell_type": "code",
   "execution_count": 7,
   "metadata": {},
   "outputs": [
    {
     "name": "stdout",
     "output_type": "stream",
     "text": [
      "Unnamed: 0                  int64\n",
      "Restaurant Name            object\n",
      "City                        int64\n",
      "Locality                    int64\n",
      "Cuisines                    int64\n",
      "Average Cost for two        int64\n",
      "Has Table booking           int64\n",
      "Has Online delivery         int64\n",
      " Rating Stars out of 5    float64\n",
      "Rating in text              int64\n",
      "Price range                 int64\n",
      "Votes                       int64\n",
      "dtype: object\n"
     ]
    },
    {
     "data": {
      "text/html": [
       "<div>\n",
       "<style scoped>\n",
       "    .dataframe tbody tr th:only-of-type {\n",
       "        vertical-align: middle;\n",
       "    }\n",
       "\n",
       "    .dataframe tbody tr th {\n",
       "        vertical-align: top;\n",
       "    }\n",
       "\n",
       "    .dataframe thead th {\n",
       "        text-align: right;\n",
       "    }\n",
       "</style>\n",
       "<table border=\"1\" class=\"dataframe\">\n",
       "  <thead>\n",
       "    <tr style=\"text-align: right;\">\n",
       "      <th></th>\n",
       "      <th>Unnamed: 0</th>\n",
       "      <th>Restaurant Name</th>\n",
       "      <th>City</th>\n",
       "      <th>Locality</th>\n",
       "      <th>Cuisines</th>\n",
       "      <th>Average Cost for two</th>\n",
       "      <th>Has Table booking</th>\n",
       "      <th>Has Online delivery</th>\n",
       "      <th>Rating Stars out of 5</th>\n",
       "      <th>Rating in text</th>\n",
       "      <th>Price range</th>\n",
       "      <th>Votes</th>\n",
       "    </tr>\n",
       "  </thead>\n",
       "  <tbody>\n",
       "    <tr>\n",
       "      <th>0</th>\n",
       "      <td>0</td>\n",
       "      <td>Sultans of Spice</td>\n",
       "      <td>0</td>\n",
       "      <td>20</td>\n",
       "      <td>23</td>\n",
       "      <td>20</td>\n",
       "      <td>1</td>\n",
       "      <td>1</td>\n",
       "      <td>4.1</td>\n",
       "      <td>3</td>\n",
       "      <td>3</td>\n",
       "      <td>314</td>\n",
       "    </tr>\n",
       "    <tr>\n",
       "      <th>1</th>\n",
       "      <td>1</td>\n",
       "      <td>The Fatty Bao - Asian Gastro Bar</td>\n",
       "      <td>0</td>\n",
       "      <td>56</td>\n",
       "      <td>1</td>\n",
       "      <td>32</td>\n",
       "      <td>1</td>\n",
       "      <td>1</td>\n",
       "      <td>4.7</td>\n",
       "      <td>1</td>\n",
       "      <td>4</td>\n",
       "      <td>591</td>\n",
       "    </tr>\n",
       "    <tr>\n",
       "      <th>2</th>\n",
       "      <td>2</td>\n",
       "      <td>Toit</td>\n",
       "      <td>0</td>\n",
       "      <td>56</td>\n",
       "      <td>16</td>\n",
       "      <td>28</td>\n",
       "      <td>0</td>\n",
       "      <td>0</td>\n",
       "      <td>4.8</td>\n",
       "      <td>1</td>\n",
       "      <td>4</td>\n",
       "      <td>270</td>\n",
       "    </tr>\n",
       "    <tr>\n",
       "      <th>3</th>\n",
       "      <td>3</td>\n",
       "      <td>Three Dots &amp; A Dash</td>\n",
       "      <td>0</td>\n",
       "      <td>56</td>\n",
       "      <td>10</td>\n",
       "      <td>20</td>\n",
       "      <td>1</td>\n",
       "      <td>0</td>\n",
       "      <td>3.9</td>\n",
       "      <td>2</td>\n",
       "      <td>3</td>\n",
       "      <td>365</td>\n",
       "    </tr>\n",
       "    <tr>\n",
       "      <th>4</th>\n",
       "      <td>4</td>\n",
       "      <td>Bombay Brasserie</td>\n",
       "      <td>0</td>\n",
       "      <td>56</td>\n",
       "      <td>21</td>\n",
       "      <td>22</td>\n",
       "      <td>0</td>\n",
       "      <td>1</td>\n",
       "      <td>4.2</td>\n",
       "      <td>3</td>\n",
       "      <td>3</td>\n",
       "      <td>229</td>\n",
       "    </tr>\n",
       "  </tbody>\n",
       "</table>\n",
       "</div>"
      ],
      "text/plain": [
       "   Unnamed: 0                   Restaurant Name  City  Locality  Cuisines  \\\n",
       "0           0                  Sultans of Spice     0        20        23   \n",
       "1           1  The Fatty Bao - Asian Gastro Bar     0        56         1   \n",
       "2           2                              Toit     0        56        16   \n",
       "3           3               Three Dots & A Dash     0        56        10   \n",
       "4           4                  Bombay Brasserie     0        56        21   \n",
       "\n",
       "   Average Cost for two  Has Table booking  Has Online delivery  \\\n",
       "0                    20                  1                    1   \n",
       "1                    32                  1                    1   \n",
       "2                    28                  0                    0   \n",
       "3                    20                  1                    0   \n",
       "4                    22                  0                    1   \n",
       "\n",
       "    Rating Stars out of 5  Rating in text  Price range  Votes  \n",
       "0                     4.1               3            3    314  \n",
       "1                     4.7               1            4    591  \n",
       "2                     4.8               1            4    270  \n",
       "3                     3.9               2            3    365  \n",
       "4                     4.2               3            3    229  "
      ]
     },
     "execution_count": 7,
     "metadata": {},
     "output_type": "execute_result"
    }
   ],
   "source": [
    "#label encoding perform on columns with the help of for loop\n",
    "lb=LabelEncoder()\n",
    "enc_list=['City', 'Locality', 'Cuisines','Average Cost for two', 'Has Table booking', 'Has Online delivery','Rating in text']\n",
    "for i in enc_list:\n",
    "    swiggy_data[i]=lb.fit_transform(swiggy_data[i])\n",
    "    \n",
    "# Trained data output\n",
    "\n",
    "print(swiggy_data.dtypes)\n",
    "swiggy_data.head()"
   ]
  },
  {
   "cell_type": "code",
   "execution_count": 11,
   "metadata": {},
   "outputs": [],
   "source": [
    "swiggy_data.to_csv(\"C:\\\\Users\\\\lenovo\\\\Desktop\\\\CURRENTLY WORKING\\\\Swiggy_Dataset_PREPROCESSEDDATA_cleaned.csv\",index=False,encoding='ISO-8859-1')\n",
    "\n"
   ]
  },
  {
   "cell_type": "code",
   "execution_count": null,
   "metadata": {},
   "outputs": [],
   "source": []
  }
 ],
 "metadata": {
  "kernelspec": {
   "display_name": "Python 3",
   "language": "python",
   "name": "python3"
  },
  "language_info": {
   "codemirror_mode": {
    "name": "ipython",
    "version": 3
   },
   "file_extension": ".py",
   "mimetype": "text/x-python",
   "name": "python",
   "nbconvert_exporter": "python",
   "pygments_lexer": "ipython3",
   "version": "3.12.0"
  }
 },
 "nbformat": 4,
 "nbformat_minor": 2
}
